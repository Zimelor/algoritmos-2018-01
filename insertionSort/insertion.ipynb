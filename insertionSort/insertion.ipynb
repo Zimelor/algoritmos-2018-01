{
 "cells": [
  {
   "cell_type": "code",
   "execution_count": 1,
   "metadata": {
    "collapsed": true
   },
   "outputs": [],
   "source": [
    "%matplotlib inline\n",
    "#!/usr/bin/env python3\n",
    "# -*- coding: utf-8 -*-\n",
    "\"\"\"\n",
    "Created on Sun Feb 25 22:12:44 2018\n",
    "\n",
    "@author: miaortizma\n",
    "\"\"\"\n",
    "import numpy as np\n",
    "import itertools as it\n",
    "import matplotlib.pyplot as plt\n",
    "import random\n",
    "\n",
    "'''\n",
    "Returns the array after insertion\n",
    "and the number of comparations, swaps and other instructions made\n",
    "'''\n",
    "def insert(arr, j):\n",
    "    i = j\n",
    "    while(i > 0 and arr[i] < arr[i-1]):\n",
    "        arr[i], arr[i-1] = arr[i-1],arr[i]\n",
    "        i = i - 1\n",
    "    if(i == 0):\n",
    "        comparations = 2*(j) + 1\n",
    "        others = 1 + (j - 1)\n",
    "    elif(i == j):\n",
    "        comparations = 2\n",
    "    else:    \n",
    "        comparations = 2*(j - i)\n",
    "    swaps = j - i\n",
    "    others = 1 + (j - i)\n",
    "    return arr, (comparations, swaps, others)\n",
    "\n",
    "\n",
    "def insertionSort(toSort):\n",
    "    n = len(toSort)\n",
    "    comparations = 0\n",
    "    swaps = 0\n",
    "    others = 0\n",
    "    for i in range(1,n):\n",
    "        toSort, temp = insert(toSort, i)\n",
    "        comparations = comparations + temp[0]\n",
    "        swaps = swaps + temp[1]\n",
    "        others = others + temp[2]\n",
    "    return (comparations, swaps, others)\n"
   ]
  },
  {
   "cell_type": "code",
   "execution_count": 28,
   "metadata": {
    "collapsed": true
   },
   "outputs": [],
   "source": [
    "def graph(comparations, swaps, others):\n",
    "    N = len(comparations)\n",
    "    print(\"Average:\")\n",
    "    print(\"Comparations:\", sum(comparations)/N)\n",
    "    print(\"Swaps:\", sum(swaps)/N)\n",
    "    print(\"Others:\", sum(others)/N)\n",
    "    print(\"Distribucion:\")\n",
    "    plt.hist(comparations,bins='auto')\n",
    "    plt.title(\"Histogram of Comparations\")\n",
    "    plt.show()\n",
    "    plt.hist(swaps,bins='auto')\n",
    "    plt.title(\"Histogram of Swaps\")\n",
    "    plt.show()\n",
    "    plt.hist(others,bins='auto')\n",
    "    plt.title(\"Histogram of Others\")\n",
    "    plt.show()\n",
    "    allOps = comparations + swaps + others\n",
    "    plt.title(\"Histogram of all operations\")\n",
    "    plt.hist(allOps, bins='auto')\n",
    "    plt.show()\n",
    "\n",
    "'''\n",
    "Referencia Heap's Algorithm - wikipedia\n",
    "'''\n",
    "\n",
    "def generate(n):\n",
    "    A = list(range(1,n+1))\n",
    "    c = [0]*n\n",
    "    yield A\n",
    "    i = 0\n",
    "    while i < n:\n",
    "        if  c[i] < i:\n",
    "            if i%2 == 0:\n",
    "                A[0],A[i] = A[i], A[0]\n",
    "            else:\n",
    "                A[c[i]],A[i] = A[i], A[c[i]]\n",
    "            yield A\n",
    "            c[i] = c[i] + 1\n",
    "            i = 0\n",
    "        else:\n",
    "            c[i] = 0\n",
    "            i = i + 1\n",
    "\n",
    "def shuffle(A):\n",
    "    A = list(A)\n",
    "    n = len(A)\n",
    "    for i in range(n-1):\n",
    "        j = random.randint(i,n-1)\n",
    "        A[j],A[i] = A[i], A[j]\n",
    "    return A\n"
   ]
  },
  {
   "cell_type": "code",
   "execution_count": 29,
   "metadata": {
    "collapsed": true
   },
   "outputs": [],
   "source": [
    "def allPerms(n, perms):\n",
    "    if(n > 8):\n",
    "        print(\"Input too big, try a number like 8 or less\")\n",
    "    comparations = []\n",
    "    swaps = []\n",
    "    others = []\n",
    "    for perm in perms:\n",
    "        temp = insertionSort(list(perm))\n",
    "        comparations = comparations + [temp[0]]\n",
    "        swaps = swaps + [temp[1]]\n",
    "        others = others + [temp[2]]\n",
    "    graph(comparations, swaps, others)\n",
    "    \n",
    "def samplePerms(n, m, rnd):\n",
    "    comparations = []\n",
    "    swaps = []\n",
    "    others = []\n",
    "    rng = range(n)\n",
    "    for i in range(m):\n",
    "        nxt = rnd(rng)\n",
    "        print(nxt)\n",
    "        temp = insertionSort(nxt)\n",
    "        comparations = comparations + [temp[0]]\n",
    "        swaps = swaps + [temp[1]]\n",
    "        others = others + [temp[2]]\n",
    "    graph(comparations, swaps, others)\n",
    "\n",
    "n = 5\n",
    "#allPerms(n, generate(n))"
   ]
  },
  {
   "cell_type": "code",
   "execution_count": 30,
   "metadata": {},
   "outputs": [
    {
     "name": "stdout",
     "output_type": "stream",
     "text": [
      "[2, 3, 5, 4, 1]\n",
      "[4, 1, 11, 10, 16, 15, 7, 6, 17, 18, 14, 13, 8, 12, 5, 2, 9, 19, 3, 0]\n",
      "[13, 10, 18, 9, 1, 3, 16, 6, 4, 17, 14, 19, 15, 8, 0, 7, 11, 12, 5, 2]\n",
      "[15, 8, 0, 13, 1, 2, 4, 6, 16, 10, 17, 14, 11, 9, 19, 7, 12, 5, 18, 3]\n",
      "[4, 16, 8, 10, 18, 15, 2, 3, 17, 9, 13, 0, 5, 11, 12, 1, 6, 19, 14, 7]\n",
      "[11, 2, 14, 3, 5, 12, 9, 10, 13, 4, 6, 16, 18, 8, 17, 19, 0, 1, 7, 15]\n",
      "[9, 11, 19, 16, 1, 18, 2, 12, 7, 3, 5, 13, 0, 6, 14, 8, 10, 15, 4, 17]\n",
      "[17, 11, 7, 5, 3, 2, 10, 9, 13, 1, 16, 6, 0, 4, 12, 14, 18, 8, 15, 19]\n",
      "[5, 1, 10, 15, 19, 6, 13, 11, 7, 0, 8, 3, 4, 14, 18, 17, 2, 16, 12, 9]\n",
      "[12, 18, 4, 6, 0, 15, 1, 9, 2, 17, 3, 10, 19, 16, 8, 11, 5, 13, 14, 7]\n",
      "[17, 0, 13, 10, 9, 1, 4, 8, 5, 14, 6, 15, 7, 12, 19, 11, 18, 2, 16, 3]\n",
      "Average:\n",
      "Comparations: 187.4\n",
      "Swaps: 89.7\n",
      "Others: 108.7\n",
      "Distribucion:\n"
     ]
    },
    {
     "data": {
      "image/png": "[encoded data removed]",
      "text/plain": [
       "<matplotlib.figure.Figure at 0x7f7225e049e8>"
      ]
     },
     "metadata": {},
     "output_type": "display_data"
    },
    {
     "data": {
      "image/png": "[encoded data removed]",
      "text/plain": [
       "<matplotlib.figure.Figure at 0x7f7225d8a390>"
      ]
     },
     "metadata": {},
     "output_type": "display_data"
    },
    {
     "data": {
      "image/png": "[encoded data removed]",
      "text/plain": [
       "<matplotlib.figure.Figure at 0x7f7225b262e8>"
      ]
     },
     "metadata": {},
     "output_type": "display_data"
    },
    {
     "data": {
      "image/png": "[encoded data removed]",
      "text/plain": [
       "<matplotlib.figure.Figure at 0x7f72258d4a90>"
      ]
     },
     "metadata": {},
     "output_type": "display_data"
    }
   ],
   "source": [
    "print(shuffle([1,2,3,4,5]))\n",
    "samplePerms(20, 10, shuffle)\n",
    "#samplePerms(20, 10, np.random.permutation)"
   ]
  },
  {
   "cell_type": "markdown",
   "metadata": {},
   "source": [
    "Se observa una distribución normal en cada una de las variables.\n",
    "\n",
    "El limite para una memoria RAM de 6Gb en la generación de todas las permutaciones es 11, más de 8 ya se demoran mucho."
   ]
  },
  {
   "cell_type": "code",
   "execution_count": null,
   "metadata": {
    "collapsed": true
   },
   "outputs": [],
   "source": []
  }
 ],
 "metadata": {
  "kernelspec": {
   "display_name": "Python 3",
   "language": "python",
   "name": "python3"
  },
  "language_info": {
   "codemirror_mode": {
    "name": "ipython",
    "version": 3
   },
   "file_extension": ".py",
   "mimetype": "text/x-python",
   "name": "python",
   "nbconvert_exporter": "python",
   "pygments_lexer": "ipython3",
   "version": "3.6.3"
  }
 },
 "nbformat": 4,
 "nbformat_minor": 2
}
