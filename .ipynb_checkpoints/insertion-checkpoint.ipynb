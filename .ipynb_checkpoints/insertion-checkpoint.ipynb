{
 "cells": [
  {
   "cell_type": "code",
   "execution_count": 2,
   "metadata": {},
   "outputs": [],
   "source": [
    "%matplotlib inline\n",
    "import numpy as np\n",
    "import itertools as it\n",
    "import matplotlib.pyplot as plt\n",
    "\n",
    "#Deficiones de insert y InsertionSort\n",
    "\n",
    "'''\n",
    "Returns the array after insertion and the number of comparations, swaps and other instructions made\n",
    "'''\n",
    "def insert(arr, num):\n",
    "    i = len(arr)\n",
    "    arr = arr + [num]\n",
    "    while(i >= 1 and arr[i-1] > num):\n",
    "        arr[i]= arr[i-1]\n",
    "        i = i - 1\n",
    "    arr[i] = num\n",
    "    if(i == 0):\n",
    "        comparations = 2*(len(arr)-1) + 1\n",
    "    else:\n",
    "        comparations = 2*(len(arr) - i)\n",
    "    swaps = len(arr) - i \n",
    "    others = 2 + (len(arr) - i - 1)\n",
    "    return arr, (comparations, swaps, others)\n",
    "\n",
    "def insertionSort(toSort):\n",
    "    n = len(toSort)\n",
    "    comparations = 0\n",
    "    swaps = 0\n",
    "    others = 0\n",
    "    arr = []\n",
    "    for i in range(n):\n",
    "        arr, temp = insert(arr, toSort[i])\n",
    "        comparations = comparations + temp[0]\n",
    "        swaps = swaps + temp[1]\n",
    "        others = others + temp[2]\n",
    "    return (comparations, swaps, others)\n"
   ]
  },
  {
   "cell_type": "code",
   "execution_count": 5,
   "metadata": {},
   "outputs": [
    {
     "name": "stdout",
     "output_type": "stream",
     "text": [
      "Average:\n",
      "Comparations: 17.716666666666665\n",
      "Swaps: 10.0\n",
      "Others: 15.0\n",
      "Distribucion:\n"
     ]
    },
    {
     "data": {
      "image/png": "[encoded data removed]",
      "text/plain": [
       "<matplotlib.figure.Figure at 0x7f67fc9d5f28>"
      ]
     },
     "metadata": {},
     "output_type": "display_data"
    },
    {
     "name": "stdout",
     "output_type": "stream",
     "text": [
      "Max Comparations: 25\n",
      "Min Comparations: 9\n"
     ]
    },
    {
     "data": {
      "image/png": "[encoded data removed]",
      "text/plain": [
       "<matplotlib.figure.Figure at 0x7f67fcb076a0>"
      ]
     },
     "metadata": {},
     "output_type": "display_data"
    },
    {
     "name": "stdout",
     "output_type": "stream",
     "text": [
      "Max Swaps: 15\n",
      "Min Swaps: 5\n"
     ]
    },
    {
     "data": {
      "image/png": "[encoded data removed]",
      "text/plain": [
       "<matplotlib.figure.Figure at 0x7f67fc9e0c18>"
      ]
     },
     "metadata": {},
     "output_type": "display_data"
    },
    {
     "name": "stdout",
     "output_type": "stream",
     "text": [
      "Max Others: 20\n",
      "Min Others: 10\n"
     ]
    }
   ],
   "source": [
    "def allPerms(n):\n",
    "    if(n > 8):\n",
    "        print(\"Input too big, try a number like 8 or less\")\n",
    "    comparations = []\n",
    "    swaps = []\n",
    "    others = []\n",
    "    perms = it.permutations(range(n))\n",
    "    for perm in perms:\n",
    "        temp = insertionSort(perm)\n",
    "        comparations = comparations + [temp[0]]\n",
    "        swaps = swaps + [temp[1]]\n",
    "        others = others + [temp[2]]\n",
    "    N = len(comparations)\n",
    "    print(\"Average:\")\n",
    "    print(\"Comparations:\", sum(comparations)/N)\n",
    "    print(\"Swaps:\", sum(swaps)/N)\n",
    "    print(\"Others:\", sum(others)/N)\n",
    "    print(\"Distribucion:\")\n",
    "    plt.hist(comparations,bins='auto')\n",
    "    plt.title(\"Histogram of Comparations\")\n",
    "    plt.show()\n",
    "    print(\"Max Comparations:\", max(comparations))\n",
    "    print(\"Min Comparations:\", min(comparations))\n",
    "    plt.hist(swaps,bins='auto')\n",
    "    plt.title(\"Histogram of Swaps\")\n",
    "    plt.show()\n",
    "    print(\"Max Swaps:\", max(swaps))\n",
    "    print(\"Min Swaps:\", min(swaps))\n",
    "    plt.hist(others,bins='auto')\n",
    "    plt.title(\"Histogram of Others\")\n",
    "    plt.show()\n",
    "    print(\"Max Others:\", max(others))\n",
    "    print(\"Min Others:\", min(others))\n",
    "    \n",
    "allPerms(5)\n"
   ]
  },
  {
   "cell_type": "code",
   "execution_count": 6,
   "metadata": {},
   "outputs": [
    {
     "name": "stdout",
     "output_type": "stream",
     "text": [
      "Average:\n",
      "Comparations: 226.155\n",
      "Swaps: 114.8816\n",
      "Others: 134.8816\n",
      "Distribucion:\n"
     ]
    },
    {
     "data": {
      "image/png": "[encoded data removed]",
      "text/plain": [
       "<matplotlib.figure.Figure at 0x7f67fc75e668>"
      ]
     },
     "metadata": {},
     "output_type": "display_data"
    },
    {
     "name": "stdout",
     "output_type": "stream",
     "text": [
      "Max Comparations: 345\n",
      "Min Comparations: 112\n"
     ]
    },
    {
     "data": {
      "image/png": "[encoded data removed]",
      "text/plain": [
       "<matplotlib.figure.Figure at 0x7f67fc9cc978>"
      ]
     },
     "metadata": {},
     "output_type": "display_data"
    },
    {
     "name": "stdout",
     "output_type": "stream",
     "text": [
      "Max Swaps: 175\n",
      "Min Swaps: 57\n"
     ]
    },
    {
     "data": {
      "image/png": "[encoded data removed]",
      "text/plain": [
       "<matplotlib.figure.Figure at 0x7f67fc9b46a0>"
      ]
     },
     "metadata": {},
     "output_type": "display_data"
    },
    {
     "name": "stdout",
     "output_type": "stream",
     "text": [
      "Max Others: 195\n",
      "Min Others: 77\n"
     ]
    }
   ],
   "source": [
    "def samplePerms(n, m):\n",
    "    comparations = []\n",
    "    swaps = []\n",
    "    others = []\n",
    "    rng = range(n)\n",
    "    for i in range(m):\n",
    "        nxt = np.random.permutation(rng)\n",
    "        temp = insertionSort(nxt)\n",
    "        comparations = comparations + [temp[0]]\n",
    "        swaps = swaps + [temp[1]]\n",
    "        others = others + [temp[2]]\n",
    "    N = len(comparations)\n",
    "    print(\"Average:\")\n",
    "    print(\"Comparations:\", sum(comparations)/N)\n",
    "    print(\"Swaps:\", sum(swaps)/N)\n",
    "    print(\"Others:\", sum(others)/N)\n",
    "    print(\"Distribucion:\")\n",
    "    plt.hist(comparations,bins='auto')\n",
    "    plt.title(\"Histogram of Comparations\")\n",
    "    plt.show()\n",
    "    print(\"Max Comparations:\", max(comparations))\n",
    "    print(\"Min Comparations:\", min(comparations))\n",
    "    plt.hist(swaps,bins='auto')\n",
    "    plt.title(\"Histogram of Swaps\")\n",
    "    plt.show()\n",
    "    print(\"Max Swaps:\", max(swaps))\n",
    "    print(\"Min Swaps:\", min(swaps))\n",
    "    plt.hist(others,bins='auto')\n",
    "    plt.title(\"Histogram of Others\")\n",
    "    plt.show()\n",
    "    print(\"Max Others:\", max(others))\n",
    "    print(\"Min Others:\", min(others))\n",
    "\n",
    "samplePerms(20, 10000)"
   ]
  },
  {
   "cell_type": "markdown",
   "metadata": {},
   "source": [
    "Se observa una distribución normal en cada una de las variables."
   ]
  }
 ],
 "metadata": {
  "kernelspec": {
   "display_name": "Python 3",
   "language": "python",
   "name": "python3"
  },
  "language_info": {
   "codemirror_mode": {
    "name": "ipython",
    "version": 3
   },
   "file_extension": ".py",
   "mimetype": "text/x-python",
   "name": "python",
   "nbconvert_exporter": "python",
   "pygments_lexer": "ipython3",
   "version": "3.6.3"
  }
 },
 "nbformat": 4,
 "nbformat_minor": 2
}
