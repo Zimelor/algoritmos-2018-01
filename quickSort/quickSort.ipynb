{
 "cells": [
  {
   "cell_type": "code",
   "execution_count": 1,
   "metadata": {
    "collapsed": true
   },
   "outputs": [],
   "source": [
    "import random\n",
    "import statistics\n",
    "import numpy as np\n",
    "import matplotlib.pyplot as plt\n",
    "%matplotlib inline"
   ]
  },
  {
   "cell_type": "code",
   "execution_count": 5,
   "metadata": {
    "collapsed": true
   },
   "outputs": [],
   "source": [
    "def randomquicksort(A,times):\n",
    "    comp = [0]\n",
    "    randomquicksorthelper(A,0,len(A)-1,comp)\n",
    "    times.append(comp[0])\n",
    "    return comp[0] #time to be added\n",
    "    \n",
    "def randomquicksorthelper(A,first,last,comp):\n",
    "    if last<first:return\n",
    "    \n",
    "    splitpoint,compspart = randompartition(A,first,last)\n",
    "    tmp = comp.pop()\n",
    "    comp.append(tmp+compspart)\n",
    "\n",
    "    randomquicksorthelper(A,first,splitpoint-1,comp)\n",
    "    randomquicksorthelper(A,splitpoint+1,last,comp)\n",
    "\n",
    "def randompartition(A,first,last):\n",
    "    partition_index = random.randint(first,last)\n",
    "    #swap\n",
    "    A[partition_index],A[first] = A[first],A[partition_index]\n",
    "    \n",
    "    pivot = A[first]\n",
    "    compspart = 0\n",
    "    l = first+1\n",
    "    r = last\n",
    "    \n",
    "    while(True):\n",
    "        while l <= r and A[l] <= pivot:\n",
    "            l+=1;compspart +=1\n",
    "        while A[r] >= pivot and r >= l:\n",
    "            r-=1;compspart +=1\n",
    "        compspart +=2\n",
    "        \n",
    "        if(r<l):break\n",
    "        A[l],A[r] = A[r],A[l]\n",
    "    \n",
    "    A[first],A[r] = A[r],A[first]\n",
    "    return r,compspart\n",
    "\n",
    "def randomquicksorttimedistrib(s,r): \n",
    "    # Create an array of 1 .. n  \n",
    "    n=s\n",
    "    runs=r\n",
    "    x = []\n",
    "    for i in range(1,n+1):\n",
    "        x.append(n+1-i)\n",
    "    \n",
    "    # Run quicksort for each permutation\n",
    "    tlist =[]\n",
    "    sums = 0\n",
    "    for p in range(1,runs+1):\n",
    "        y = list(x)\n",
    "        sums+=randomquicksort(y,tlist)\n",
    "        \n",
    "    \n",
    "    mean = statistics.mean(tlist)\n",
    "    stdev = statistics.stdev(tlist)\n",
    "    min_val = min(tlist)\n",
    "    max_val = max(tlist)\n",
    "    best_case = n*np.log2(n)\n",
    "    worst_case = n*n\n",
    "    avg_case = 1.38*n*np.log2(n)\n",
    "    \n",
    "    #show Info\n",
    "    plt.hist(tlist, bins='auto')\n",
    "    plt.title(\"Number of comparison of Quicksort for all permutaions\")\n",
    "    plt.xlabel(\"Comparisons of elements\")\n",
    "    plt.ylabel(\"Probability\")\n",
    "    plt.show()\n",
    "    \n",
    "    print(\"n\",n)\n",
    "    print(\"Runs\",runs)\n",
    "    print(\"Mean\",mean)\n",
    "    print(\"Stdev\",stdev)\n",
    "    print(\"Min\",min_val)\n",
    "    print(\"Max\",max_val)\n",
    "    print()\n",
    "    print(\"---Teorical Values---\")\n",
    "    print(\"Best Case\",best_case)\n",
    "    print(\"Worst Case\",worst_case)\n",
    "    print(\"Avg Case\",avg_case)\n",
    "    print(\"Diff Avg Case with Mean\",abs(avg_case-mean))\n",
    "    print()\n",
    "    print('Difference:')\n",
    "    print(abs(avg_case - mean))\n",
    "    print('Probability of 1.5 times Theoretical')\n",
    "    \n",
    "    "
   ]
  },
  {
   "cell_type": "code",
   "execution_count": 6,
   "metadata": {},
   "outputs": [
    {
     "data": {
      "image/png": "[encoded data removed]",
      "text/plain": [
       "<matplotlib.figure.Figure at 0x7fa7a01fb6d8>"
      ]
     },
     "metadata": {},
     "output_type": "display_data"
    },
    {
     "name": "stdout",
     "output_type": "stream",
     "text": [
      "n 16\n",
      "Runs 1000\n",
      "Mean 94.912\n",
      "Stdev 6.28010315963804\n",
      "Min 83\n",
      "Max 124\n",
      "\n",
      "---Teorical Values---\n",
      "Best Case 64.0\n",
      "Worst Case 256\n",
      "Avg Case 88.32\n",
      "Diff Avg Case with Mean 6.592\n",
      "\n",
      "Difference:\n",
      "6.592\n"
     ]
    }
   ],
   "source": [
    "times = 1000\n",
    "n = 16\n",
    "randomquicksorttimedistrib(n,times)"
   ]
  },
  {
   "cell_type": "code",
   "execution_count": null,
   "metadata": {
    "collapsed": true
   },
   "outputs": [],
   "source": []
  }
 ],
 "metadata": {
  "kernelspec": {
   "display_name": "Python 3",
   "language": "python",
   "name": "python3"
  },
  "language_info": {
   "codemirror_mode": {
    "name": "ipython",
    "version": 3
   },
   "file_extension": ".py",
   "mimetype": "text/x-python",
   "name": "python",
   "nbconvert_exporter": "python",
   "pygments_lexer": "ipython3",
   "version": "3.6.3"
  }
 },
 "nbformat": 4,
 "nbformat_minor": 2
}
