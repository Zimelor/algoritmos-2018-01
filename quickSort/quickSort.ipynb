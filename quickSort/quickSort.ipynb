{
 "cells": [
  {
   "cell_type": "code",
   "execution_count": 29,
   "metadata": {
    "collapsed": true
   },
   "outputs": [],
   "source": [
    "import random\n",
    "import statistics\n",
    "import numpy as np\n",
    "import matplotlib.pyplot as plt\n",
    "import scipy.stats\n",
    "%matplotlib inline"
   ]
  },
  {
   "cell_type": "code",
   "execution_count": 34,
   "metadata": {},
   "outputs": [],
   "source": [
    "def randomquicksort(A):\n",
    "    return randomquicksorthelper(A,0,len(A)-1)  #time to be added\n",
    "    \n",
    "def randomquicksorthelper(A,first,last):\n",
    "    if first<last:\n",
    "        c = splitpoint,compspart = randompartition(A,first,last)\n",
    "    \n",
    "        a = randomquicksorthelper(A,first,splitpoint-1)\n",
    "        b = randomquicksorthelper(A,splitpoint+1,last)\n",
    "        return a + b + c[1]\n",
    "    else:\n",
    "        return 0\n",
    "    \n",
    "def randompartition(A,first,last):\n",
    "    partition_index = random.randint(first,last)\n",
    "    #swap\n",
    "    A[partition_index],A[first] = A[first],A[partition_index]\n",
    "    \n",
    "    pivot = A[first]\n",
    "    compspart = 0\n",
    "    l = first+1\n",
    "    r = last\n",
    "    \n",
    "    while(True):\n",
    "        while l <= r and A[l] <= pivot:\n",
    "            l+=1;compspart +=1\n",
    "        while A[r] >= pivot and r >= l:\n",
    "            r-=1;compspart +=1\n",
    "        compspart +=2\n",
    "        \n",
    "        if(r<l):break\n",
    "        A[l],A[r] = A[r],A[l]\n",
    "    \n",
    "    A[first],A[r] = A[r],A[first]\n",
    "    return r,compspart\n",
    "\n",
    "def randomquicksorttimedistrib(n,runs): \n",
    "    # Create an array of 1 .. n  \n",
    "    x = list(reversed(range(n)))\n",
    "    \n",
    "    # Run quicksort for each permutation\n",
    "    tlist = [ randomquicksort(x) for i in range(runs) ]\n",
    "    sums = sum(tlist)\n",
    "        \n",
    "    mean = statistics.mean(tlist)\n",
    "    stdev = statistics.stdev(tlist)\n",
    "    min_val = min(tlist)\n",
    "    max_val = max(tlist)\n",
    "    best_case = n*np.log2(n)\n",
    "    worst_case = n*n\n",
    "    avg_case = 1.38*n*np.log2(n)\n",
    "    \n",
    "    #show Info\n",
    "    plt.hist(tlist, bins='auto')\n",
    "    plt.title(\"Number of comparison of Quicksort for all permutaions\")\n",
    "    plt.xlabel(\"Comparisons of elements\")\n",
    "    plt.ylabel(\"Probability\")\n",
    "    plt.show()\n",
    "    \n",
    "    print(\"n\",n)\n",
    "    print(\"Runs\",runs)\n",
    "    print(\"Mean\",mean)\n",
    "    print(\"Stdev\",stdev)\n",
    "    print(\"Min\",min_val)\n",
    "    print(\"Max\",max_val)\n",
    "    print()\n",
    "    print(\"Teorical Values\")\n",
    "    print(\"Best Case\",best_case)\n",
    "    print(\"Worst Case\",worst_case)\n",
    "    print(\"Avg Case\",avg_case)\n",
    "    print()\n",
    "    print('Difference:')\n",
    "    print(abs(avg_case - mean))\n",
    "    print()\n",
    "    print('Probability of 1.5 times Theoretical')\n",
    "    u = round(1.5*avg_case)\n",
    "    print('1.5 times theoretical: ', u)\n",
    "    dist = scipy.stats.norm(mean, stdev)\n",
    "    print('probabilidad', dist.pdf(u))\n",
    "    print('probabilidad acumulada', dist.cdf(u))\n",
    "    "
   ]
  },
  {
   "cell_type": "code",
   "execution_count": 36,
   "metadata": {},
   "outputs": [
    {
     "data": {
      "image/png": "[encoded data removed]",
      "text/plain": [
       "<matplotlib.figure.Figure at 0x7fa78698f240>"
      ]
     },
     "metadata": {},
     "output_type": "display_data"
    },
    {
     "name": "stdout",
     "output_type": "stream",
     "text": [
      "n 16\n",
      "Runs 50000\n",
      "Mean 71.68814\n",
      "Stdev 8.046100803194221\n",
      "Min 54\n",
      "Max 124\n",
      "\n",
      "Teorical Values\n",
      "Best Case 64.0\n",
      "Worst Case 256\n",
      "Avg Case 88.32\n",
      "\n",
      "Difference:\n",
      "16.63186\n",
      "\n",
      "Probability of 1.5 times Theoretical\n",
      "1.5 times theoretical:  132.0\n",
      "probabilidad 3.12255552121e-14\n",
      "probabilidad acumulada 1.0\n"
     ]
    }
   ],
   "source": [
    "times = 50000\n",
    "n = 16\n",
    "randomquicksorttimedistrib(n,times)"
   ]
  },
  {
   "cell_type": "code",
   "execution_count": null,
   "metadata": {
    "collapsed": true
   },
   "outputs": [],
   "source": []
  }
 ],
 "metadata": {
  "kernelspec": {
   "display_name": "Python 3",
   "language": "python",
   "name": "python3"
  },
  "language_info": {
   "codemirror_mode": {
    "name": "ipython",
    "version": 3
   },
   "file_extension": ".py",
   "mimetype": "text/x-python",
   "name": "python",
   "nbconvert_exporter": "python",
   "pygments_lexer": "ipython3",
   "version": "3.6.3"
  }
 },
 "nbformat": 4,
 "nbformat_minor": 2
}
